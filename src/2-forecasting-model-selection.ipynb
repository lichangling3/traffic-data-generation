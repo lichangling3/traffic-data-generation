{
 "cells": [
  {
   "cell_type": "markdown",
   "id": "ee2ecbb7",
   "metadata": {},
   "source": [
    "# 2. Forecasting model selection"
   ]
  },
  {
   "cell_type": "markdown",
   "id": "6af457a2-d53b-4a85-829b-7c87a2772718",
   "metadata": {},
   "source": [
    "The aim of this notebook is to select a model to predict the hourly number of cars per week. The model should be able to take a week of data in a given year as input, and output the predicted number of cars for every hour of the week a year later."
   ]
  },
  {
   "cell_type": "markdown",
   "id": "4db0cdd9-1517-447b-ad60-afacaf26185b",
   "metadata": {},
   "source": [
    "## Setup "
   ]
  },
  {
   "cell_type": "code",
   "execution_count": 6,
   "id": "accaabf3",
   "metadata": {},
   "outputs": [
    {
     "name": "stdout",
     "output_type": "stream",
     "text": [
      "The autoreload extension is already loaded. To reload it, use:\n",
      "  %reload_ext autoreload\n"
     ]
    }
   ],
   "source": [
    "import os\n",
    "import datetime\n",
    "\n",
    "import IPython\n",
    "import IPython.display\n",
    "import matplotlib as mpl\n",
    "import matplotlib.pyplot as plt\n",
    "import numpy as np\n",
    "import pandas as pd\n",
    "import seaborn as sns\n",
    "import tensorflow as tf\n",
    "\n",
    "mpl.rcParams['figure.figsize'] = (8, 6)\n",
    "mpl.rcParams['axes.grid'] = False\n",
    "\n",
    "from utils import *\n",
    "%load_ext autoreload\n",
    "%autoreload 2"
   ]
  },
  {
   "cell_type": "code",
   "execution_count": 7,
   "id": "46409b6e",
   "metadata": {},
   "outputs": [
    {
     "data": {
      "text/html": [
       "<div>\n",
       "<style scoped>\n",
       "    .dataframe tbody tr th:only-of-type {\n",
       "        vertical-align: middle;\n",
       "    }\n",
       "\n",
       "    .dataframe tbody tr th {\n",
       "        vertical-align: top;\n",
       "    }\n",
       "\n",
       "    .dataframe thead th {\n",
       "        text-align: right;\n",
       "    }\n",
       "</style>\n",
       "<table border=\"1\" class=\"dataframe\">\n",
       "  <thead>\n",
       "    <tr style=\"text-align: right;\">\n",
       "      <th></th>\n",
       "      <th>crossTime</th>\n",
       "      <th>speed</th>\n",
       "      <th>weight</th>\n",
       "    </tr>\n",
       "  </thead>\n",
       "  <tbody>\n",
       "    <tr>\n",
       "      <th>0</th>\n",
       "      <td>2011-04-01 00:41:31.400</td>\n",
       "      <td>106</td>\n",
       "      <td>15980</td>\n",
       "    </tr>\n",
       "    <tr>\n",
       "      <th>1</th>\n",
       "      <td>2011-04-01 00:42:10.500</td>\n",
       "      <td>116</td>\n",
       "      <td>3630</td>\n",
       "    </tr>\n",
       "  </tbody>\n",
       "</table>\n",
       "</div>"
      ],
      "text/plain": [
       "                crossTime  speed  weight\n",
       "0 2011-04-01 00:41:31.400    106   15980\n",
       "1 2011-04-01 00:42:10.500    116    3630"
      ]
     },
     "execution_count": 7,
     "metadata": {},
     "output_type": "execute_result"
    }
   ],
   "source": [
    "DATA_PATH = '../data/405.txt'\n",
    "IMG_PATH = '../img/'\n",
    "\n",
    "cols_map = {\n",
    "    \"DTS\": \"crossTime\",\n",
    "    #\"LANE\": \"lane\",\n",
    "    #\"DIR\": \"direction\",\n",
    "    \"SPEED\": \"speed\",\n",
    "    # \"AX\": \"nAxles\",\n",
    "    \"GW_TOT\": \"weight\",\n",
    "    # \"TYPE\": \"type\",\n",
    "}\n",
    "\n",
    "data = pd.read_csv(DATA_PATH, usecols=cols_map.keys())\n",
    "data.rename(columns=cols_map, inplace=True)\n",
    "\n",
    "# Drop exact duplicates\n",
    "data = data.drop_duplicates()\n",
    "\n",
    "# Parse crossTime column as datetime object\n",
    "data.crossTime = pd.to_datetime(data.crossTime+'0000', format=\"%Y-%m-%d %H:%M:%S.%f\")\n",
    "data.head(2)"
   ]
  },
  {
   "cell_type": "markdown",
   "id": "4a4698b8-30cc-41e4-9855-0ef0562bb777",
   "metadata": {},
   "source": [
    "## Feature engineering"
   ]
  },
  {
   "cell_type": "markdown",
   "id": "3b5f1798-ea7f-4b35-a5f6-80586c8225c4",
   "metadata": {},
   "source": [
    "### Resampling"
   ]
  },
  {
   "cell_type": "markdown",
   "id": "e1980fd6-782a-436d-be52-9f66fc531908",
   "metadata": {},
   "source": [
    "We first index out dataset by the crossing time of each vehicle. We discard any data after October 21st 2019. As seen in the data exploration notebook, this is the last date before a gap in the data, followed by the COVID pandemic."
   ]
  },
  {
   "cell_type": "code",
   "execution_count": 8,
   "id": "baa548bc",
   "metadata": {},
   "outputs": [
    {
     "data": {
      "text/html": [
       "<div>\n",
       "<style scoped>\n",
       "    .dataframe tbody tr th:only-of-type {\n",
       "        vertical-align: middle;\n",
       "    }\n",
       "\n",
       "    .dataframe tbody tr th {\n",
       "        vertical-align: top;\n",
       "    }\n",
       "\n",
       "    .dataframe thead th {\n",
       "        text-align: right;\n",
       "    }\n",
       "</style>\n",
       "<table border=\"1\" class=\"dataframe\">\n",
       "  <thead>\n",
       "    <tr style=\"text-align: right;\">\n",
       "      <th></th>\n",
       "      <th>speed</th>\n",
       "      <th>weight</th>\n",
       "    </tr>\n",
       "    <tr>\n",
       "      <th>crossTime</th>\n",
       "      <th></th>\n",
       "      <th></th>\n",
       "    </tr>\n",
       "  </thead>\n",
       "  <tbody>\n",
       "    <tr>\n",
       "      <th>2011-04-01 00:41:31.400</th>\n",
       "      <td>106</td>\n",
       "      <td>15980</td>\n",
       "    </tr>\n",
       "    <tr>\n",
       "      <th>2011-04-01 00:42:10.500</th>\n",
       "      <td>116</td>\n",
       "      <td>3630</td>\n",
       "    </tr>\n",
       "    <tr>\n",
       "      <th>2011-04-01 00:47:15.700</th>\n",
       "      <td>84</td>\n",
       "      <td>18480</td>\n",
       "    </tr>\n",
       "    <tr>\n",
       "      <th>2011-04-01 01:23:37.200</th>\n",
       "      <td>88</td>\n",
       "      <td>11050</td>\n",
       "    </tr>\n",
       "    <tr>\n",
       "      <th>2011-04-01 01:33:23.400</th>\n",
       "      <td>89</td>\n",
       "      <td>30330</td>\n",
       "    </tr>\n",
       "  </tbody>\n",
       "</table>\n",
       "</div>"
      ],
      "text/plain": [
       "                         speed  weight\n",
       "crossTime                             \n",
       "2011-04-01 00:41:31.400    106   15980\n",
       "2011-04-01 00:42:10.500    116    3630\n",
       "2011-04-01 00:47:15.700     84   18480\n",
       "2011-04-01 01:23:37.200     88   11050\n",
       "2011-04-01 01:33:23.400     89   30330"
      ]
     },
     "execution_count": 8,
     "metadata": {},
     "output_type": "execute_result"
    }
   ],
   "source": [
    "# Index by crossing time\n",
    "feature_cols = [col for col in data.columns if col != 'crossTime']\n",
    "features = data[feature_cols]\n",
    "features.index = data.crossTime\n",
    "\n",
    "# Truncate data to ignore COVID pandemic \n",
    "start_of_covid = \"2019-10-21\"\n",
    "features = features.truncate(after=start_of_covid)\n",
    "\n",
    "features.head()"
   ]
  },
  {
   "cell_type": "markdown",
   "id": "41e56607-7637-40d9-9b4e-931cabf5d880",
   "metadata": {},
   "source": [
    "We then resample our data to a 1h interval. We sum the speed and weight columns and add a third column,  `n_vehicles`. It represents the number of vehicles travelling in that hour."
   ]
  },
  {
   "cell_type": "code",
   "execution_count": 9,
   "id": "90e91dbe-17c1-4eef-931c-92e5f0921a5e",
   "metadata": {},
   "outputs": [
    {
     "data": {
      "text/html": [
       "<div>\n",
       "<style scoped>\n",
       "    .dataframe tbody tr th:only-of-type {\n",
       "        vertical-align: middle;\n",
       "    }\n",
       "\n",
       "    .dataframe tbody tr th {\n",
       "        vertical-align: top;\n",
       "    }\n",
       "\n",
       "    .dataframe thead th {\n",
       "        text-align: right;\n",
       "    }\n",
       "</style>\n",
       "<table border=\"1\" class=\"dataframe\">\n",
       "  <thead>\n",
       "    <tr style=\"text-align: right;\">\n",
       "      <th></th>\n",
       "      <th>speed</th>\n",
       "      <th>weight</th>\n",
       "      <th>n_vehicles</th>\n",
       "    </tr>\n",
       "    <tr>\n",
       "      <th>crossTime</th>\n",
       "      <th></th>\n",
       "      <th></th>\n",
       "      <th></th>\n",
       "    </tr>\n",
       "  </thead>\n",
       "  <tbody>\n",
       "    <tr>\n",
       "      <th>2011-04-01 00:00:00</th>\n",
       "      <td>306</td>\n",
       "      <td>38090</td>\n",
       "      <td>3</td>\n",
       "    </tr>\n",
       "    <tr>\n",
       "      <th>2011-04-01 01:00:00</th>\n",
       "      <td>540</td>\n",
       "      <td>107870</td>\n",
       "      <td>6</td>\n",
       "    </tr>\n",
       "    <tr>\n",
       "      <th>2011-04-01 02:00:00</th>\n",
       "      <td>258</td>\n",
       "      <td>69670</td>\n",
       "      <td>3</td>\n",
       "    </tr>\n",
       "    <tr>\n",
       "      <th>2011-04-01 03:00:00</th>\n",
       "      <td>350</td>\n",
       "      <td>43060</td>\n",
       "      <td>4</td>\n",
       "    </tr>\n",
       "    <tr>\n",
       "      <th>2011-04-01 04:00:00</th>\n",
       "      <td>1211</td>\n",
       "      <td>290270</td>\n",
       "      <td>14</td>\n",
       "    </tr>\n",
       "  </tbody>\n",
       "</table>\n",
       "</div>"
      ],
      "text/plain": [
       "                     speed  weight  n_vehicles\n",
       "crossTime                                     \n",
       "2011-04-01 00:00:00    306   38090           3\n",
       "2011-04-01 01:00:00    540  107870           6\n",
       "2011-04-01 02:00:00    258   69670           3\n",
       "2011-04-01 03:00:00    350   43060           4\n",
       "2011-04-01 04:00:00   1211  290270          14"
      ]
     },
     "execution_count": 9,
     "metadata": {},
     "output_type": "execute_result"
    }
   ],
   "source": [
    "sampling_interval = '1h'\n",
    "\n",
    "# Downsample and add vehicle counts\n",
    "resampled = features.resample(sampling_interval)\n",
    "features = resampled.sum()\n",
    "features['n_vehicles'] = resampled.size()\n",
    "\n",
    "features.head()"
   ]
  },
  {
   "cell_type": "markdown",
   "id": "1fab701b",
   "metadata": {},
   "source": [
    "### New features"
   ]
  },
  {
   "cell_type": "markdown",
   "id": "7e3ed0f4-3330-45a8-8bb4-7abe90ec4a85",
   "metadata": {},
   "source": [
    "#### HGV Driving restrictions"
   ]
  },
  {
   "cell_type": "markdown",
   "id": "87565d0d-6a07-4900-b226-9dba778d9afd",
   "metadata": {},
   "source": [
    "Heavy goods vehicles are restricted from travelling on sundays, and from 10PM to 5AM all other days, in Switerland.\n",
    "We add a `is_legal` indicator feature to reflect this"
   ]
  },
  {
   "cell_type": "code",
   "execution_count": 10,
   "id": "431dd14c",
   "metadata": {},
   "outputs": [
    {
     "data": {
      "text/html": [
       "<div>\n",
       "<style scoped>\n",
       "    .dataframe tbody tr th:only-of-type {\n",
       "        vertical-align: middle;\n",
       "    }\n",
       "\n",
       "    .dataframe tbody tr th {\n",
       "        vertical-align: top;\n",
       "    }\n",
       "\n",
       "    .dataframe thead th {\n",
       "        text-align: right;\n",
       "    }\n",
       "</style>\n",
       "<table border=\"1\" class=\"dataframe\">\n",
       "  <thead>\n",
       "    <tr style=\"text-align: right;\">\n",
       "      <th></th>\n",
       "      <th>speed</th>\n",
       "      <th>weight</th>\n",
       "      <th>n_vehicles</th>\n",
       "      <th>is_legal</th>\n",
       "    </tr>\n",
       "    <tr>\n",
       "      <th>crossTime</th>\n",
       "      <th></th>\n",
       "      <th></th>\n",
       "      <th></th>\n",
       "      <th></th>\n",
       "    </tr>\n",
       "  </thead>\n",
       "  <tbody>\n",
       "    <tr>\n",
       "      <th>2011-04-01 00:00:00</th>\n",
       "      <td>306</td>\n",
       "      <td>38090</td>\n",
       "      <td>3</td>\n",
       "      <td>0</td>\n",
       "    </tr>\n",
       "    <tr>\n",
       "      <th>2011-04-01 01:00:00</th>\n",
       "      <td>540</td>\n",
       "      <td>107870</td>\n",
       "      <td>6</td>\n",
       "      <td>0</td>\n",
       "    </tr>\n",
       "    <tr>\n",
       "      <th>2011-04-01 02:00:00</th>\n",
       "      <td>258</td>\n",
       "      <td>69670</td>\n",
       "      <td>3</td>\n",
       "      <td>0</td>\n",
       "    </tr>\n",
       "    <tr>\n",
       "      <th>2011-04-01 03:00:00</th>\n",
       "      <td>350</td>\n",
       "      <td>43060</td>\n",
       "      <td>4</td>\n",
       "      <td>0</td>\n",
       "    </tr>\n",
       "    <tr>\n",
       "      <th>2011-04-01 04:00:00</th>\n",
       "      <td>1211</td>\n",
       "      <td>290270</td>\n",
       "      <td>14</td>\n",
       "      <td>0</td>\n",
       "    </tr>\n",
       "    <tr>\n",
       "      <th>2011-04-01 05:00:00</th>\n",
       "      <td>3398</td>\n",
       "      <td>825050</td>\n",
       "      <td>39</td>\n",
       "      <td>1</td>\n",
       "    </tr>\n",
       "    <tr>\n",
       "      <th>2011-04-01 06:00:00</th>\n",
       "      <td>7120</td>\n",
       "      <td>1310680</td>\n",
       "      <td>81</td>\n",
       "      <td>1</td>\n",
       "    </tr>\n",
       "    <tr>\n",
       "      <th>2011-04-01 07:00:00</th>\n",
       "      <td>12966</td>\n",
       "      <td>2287160</td>\n",
       "      <td>146</td>\n",
       "      <td>1</td>\n",
       "    </tr>\n",
       "    <tr>\n",
       "      <th>2011-04-01 08:00:00</th>\n",
       "      <td>13541</td>\n",
       "      <td>2729830</td>\n",
       "      <td>156</td>\n",
       "      <td>1</td>\n",
       "    </tr>\n",
       "    <tr>\n",
       "      <th>2011-04-01 09:00:00</th>\n",
       "      <td>17047</td>\n",
       "      <td>3609070</td>\n",
       "      <td>198</td>\n",
       "      <td>1</td>\n",
       "    </tr>\n",
       "  </tbody>\n",
       "</table>\n",
       "</div>"
      ],
      "text/plain": [
       "                     speed   weight  n_vehicles  is_legal\n",
       "crossTime                                                \n",
       "2011-04-01 00:00:00    306    38090           3         0\n",
       "2011-04-01 01:00:00    540   107870           6         0\n",
       "2011-04-01 02:00:00    258    69670           3         0\n",
       "2011-04-01 03:00:00    350    43060           4         0\n",
       "2011-04-01 04:00:00   1211   290270          14         0\n",
       "2011-04-01 05:00:00   3398   825050          39         1\n",
       "2011-04-01 06:00:00   7120  1310680          81         1\n",
       "2011-04-01 07:00:00  12966  2287160         146         1\n",
       "2011-04-01 08:00:00  13541  2729830         156         1\n",
       "2011-04-01 09:00:00  17047  3609070         198         1"
      ]
     },
     "execution_count": 10,
     "metadata": {},
     "output_type": "execute_result"
    }
   ],
   "source": [
    "legal_driving_start = 5  #  5 AM\n",
    "legal_driving_end = 22   # 10 PM\n",
    "legal_driving_duration = legal_driving_end - legal_driving_start\n",
    "sunday = 6\n",
    "\n",
    "# Extract day of week and hours of each row, so that hours starts at 5 AM \n",
    "dayofweek = pd.Series(features.index.dayofweek, index=features.index)\n",
    "hours = pd.Series(features.index.hour, index=features.index)\n",
    "shifted_hours = hours - legal_driving_start\n",
    "\n",
    "# Add column\n",
    "features['is_legal'] = (((0 <= shifted_hours) & (shifted_hours < legal_driving_duration))).astype(int)\n",
    "features.head(10)"
   ]
  },
  {
   "cell_type": "markdown",
   "id": "d7a7e83c",
   "metadata": {},
   "source": [
    "#### Time periodicity features"
   ]
  },
  {
   "cell_type": "markdown",
   "id": "a22daeca-9e27-4bde-acec-b3b5845ba4a1",
   "metadata": {},
   "source": [
    "Datetime column `crossTime` not useful to a model in its string form. We extract time of day, time of the week, and/or time of the year information to analyse periodicity. In order to deal with periodicity, we use sine and cosine transforms to get usable signals."
   ]
  },
  {
   "cell_type": "code",
   "execution_count": 11,
   "id": "c2370b60",
   "metadata": {},
   "outputs": [],
   "source": [
    "# Corresponding length in seconds for day, week, year\n",
    "minute_s = 60\n",
    "hour_s = minute_s * 60\n",
    "day_s = 24 * hour_s # 24h x 60m x 60s\n",
    "week_s = 7 * day_s\n",
    "year_s = 365.2425 * day_s"
   ]
  },
  {
   "cell_type": "code",
   "execution_count": 12,
   "id": "f445acd6",
   "metadata": {},
   "outputs": [
    {
     "data": {
      "text/html": [
       "<div>\n",
       "<style scoped>\n",
       "    .dataframe tbody tr th:only-of-type {\n",
       "        vertical-align: middle;\n",
       "    }\n",
       "\n",
       "    .dataframe tbody tr th {\n",
       "        vertical-align: top;\n",
       "    }\n",
       "\n",
       "    .dataframe thead th {\n",
       "        text-align: right;\n",
       "    }\n",
       "</style>\n",
       "<table border=\"1\" class=\"dataframe\">\n",
       "  <thead>\n",
       "    <tr style=\"text-align: right;\">\n",
       "      <th></th>\n",
       "      <th>speed</th>\n",
       "      <th>weight</th>\n",
       "      <th>n_vehicles</th>\n",
       "      <th>is_legal</th>\n",
       "      <th>day_sin</th>\n",
       "      <th>day_cos</th>\n",
       "      <th>week_sin</th>\n",
       "      <th>week_cos</th>\n",
       "      <th>year_sin</th>\n",
       "      <th>year_cos</th>\n",
       "    </tr>\n",
       "    <tr>\n",
       "      <th>crossTime</th>\n",
       "      <th></th>\n",
       "      <th></th>\n",
       "      <th></th>\n",
       "      <th></th>\n",
       "      <th></th>\n",
       "      <th></th>\n",
       "      <th></th>\n",
       "      <th></th>\n",
       "      <th></th>\n",
       "      <th></th>\n",
       "    </tr>\n",
       "  </thead>\n",
       "  <tbody>\n",
       "    <tr>\n",
       "      <th>2011-04-01 00:00:00</th>\n",
       "      <td>306</td>\n",
       "      <td>38090</td>\n",
       "      <td>3</td>\n",
       "      <td>0</td>\n",
       "      <td>1.461574e-12</td>\n",
       "      <td>1.000000</td>\n",
       "      <td>0.781831</td>\n",
       "      <td>0.62349</td>\n",
       "      <td>0.999768</td>\n",
       "      <td>0.021556</td>\n",
       "    </tr>\n",
       "    <tr>\n",
       "      <th>2011-04-01 01:00:00</th>\n",
       "      <td>540</td>\n",
       "      <td>107870</td>\n",
       "      <td>6</td>\n",
       "      <td>0</td>\n",
       "      <td>2.588190e-01</td>\n",
       "      <td>0.965926</td>\n",
       "      <td>0.804598</td>\n",
       "      <td>0.59382</td>\n",
       "      <td>0.999783</td>\n",
       "      <td>0.020839</td>\n",
       "    </tr>\n",
       "  </tbody>\n",
       "</table>\n",
       "</div>"
      ],
      "text/plain": [
       "                     speed  weight  n_vehicles  is_legal       day_sin  \\\n",
       "crossTime                                                                \n",
       "2011-04-01 00:00:00    306   38090           3         0  1.461574e-12   \n",
       "2011-04-01 01:00:00    540  107870           6         0  2.588190e-01   \n",
       "\n",
       "                      day_cos  week_sin  week_cos  year_sin  year_cos  \n",
       "crossTime                                                              \n",
       "2011-04-01 00:00:00  1.000000  0.781831   0.62349  0.999768  0.021556  \n",
       "2011-04-01 01:00:00  0.965926  0.804598   0.59382  0.999783  0.020839  "
      ]
     },
     "execution_count": 12,
     "metadata": {},
     "output_type": "execute_result"
    }
   ],
   "source": [
    "features = add_time_period_cols(features, day_s, 'day')\n",
    "features = add_time_period_cols(features, week_s, 'week')\n",
    "features = add_time_period_cols(features, year_s, 'year')\n",
    "\n",
    "features.head(2)"
   ]
  },
  {
   "cell_type": "markdown",
   "id": "96b82c1e-2fff-4c19-8a60-d1c5ef80bb70",
   "metadata": {},
   "source": [
    "We plot the `year_sin` and `year_cos` features to show their period of 1 year on our data."
   ]
  },
  {
   "cell_type": "code",
   "execution_count": 13,
   "id": "986de336",
   "metadata": {},
   "outputs": [
    {
     "data": {
      "text/plain": [
       "Text(0.5, 1.0, 'Sine/Cosine value')"
      ]
     },
     "execution_count": 13,
     "metadata": {},
     "output_type": "execute_result"
    },
    {
     "data": {
      "image/png": "[encoded data removed]",
      "text/plain": [
       "<Figure size 576x432 with 1 Axes>"
      ]
     },
     "metadata": {
      "needs_background": "light"
     },
     "output_type": "display_data"
    }
   ],
   "source": [
    "plt.scatter(y=np.array(features['year_sin']), x=features.index,\n",
    "            label='year_sin')\n",
    "plt.scatter(y=np.array(features['year_cos']), x=features.index,\n",
    "            label='year_cos')\n",
    "plt.xlabel('Time [years]')\n",
    "plt.legend(loc='upper right')\n",
    "plt.title('Sine/Cosine value')"
   ]
  },
  {
   "cell_type": "markdown",
   "id": "422938bc",
   "metadata": {},
   "source": [
    "### Splitting and normalizing"
   ]
  },
  {
   "cell_type": "markdown",
   "id": "c25afec6-be43-47f6-8078-df2ecb6e17de",
   "metadata": {},
   "source": [
    "We split out dataset into a training, validation, and test dataset. The three datasets are chronologically consecutive, training being the oldest.\n",
    "\n",
    "The test and validation datasets contain 2 years ($2 \\cdot 52$ weeks) of data. The training dataset contains the remaining data.\n",
    "\n",
    "We also normalize the columns of each dataset using standard scaling, based on the mean and standard deviation of the training data."
   ]
  },
  {
   "cell_type": "code",
   "execution_count": 50,
   "id": "a9959613",
   "metadata": {},
   "outputs": [],
   "source": [
    "train, val, test, train_mean, train_std = split_norm_data(features, return_mean_std=True, splitter=year_splitter)"
   ]
  },
  {
   "cell_type": "code",
   "execution_count": 51,
   "id": "cb637f65-8486-4af3-b9c0-5b7c29df6c67",
   "metadata": {},
   "outputs": [
    {
     "name": "stdout",
     "output_type": "stream",
     "text": [
      "Training\n",
      "\tNumber of years: 4.59\n",
      "\tRanging from: 2011-04-01 00:00:00\n",
      "\t        to:   2015-10-25 23:00:00\n",
      "Validation\n",
      "\tNumber of years: 2.00\n",
      "\tRanging from: 2015-10-25 23:00:00\n",
      "\t        to:   2017-10-22 23:00:00\n",
      "Testing\n",
      "\tNumber of years: 2.00\n",
      "\tRanging from: 2017-10-22 23:00:00\n",
      "\t        to:   2019-10-20 23:00:00\n"
     ]
    }
   ],
   "source": [
    "hours_in_52_weeks = 24 * 7 * 52\n",
    "\n",
    "def describe_dataset(data, name):\n",
    "    print(name)\n",
    "    print(f\"\\tNumber of years: {len(data) / hours_in_52_weeks:.2f}\")\n",
    "    \n",
    "    mn, mx = data.index.min(), data.index.max() \n",
    "    \n",
    "    print(f\"\\tRanging from: {mn}\")\n",
    "    print(f\"\\t        to:   {mx}\")\n",
    "    \n",
    "describe_dataset(train, \"Training\")\n",
    "describe_dataset(val, \"Validation\")\n",
    "describe_dataset(test, \"Testing\")"
   ]
  },
  {
   "cell_type": "markdown",
   "id": "d1acfa7f-03a3-48d7-9e2b-83ecb33ca7ad",
   "metadata": {},
   "source": [
    "### Windowing and zero-week filtering"
   ]
  },
  {
   "cell_type": "markdown",
   "id": "6f7e9333-bc54-4405-83c3-b1133ca4caf1",
   "metadata": {},
   "source": [
    "We create a window object for our inputs and outputs. This object takes the data and splits it into (input, output) tuples. Is does so as follows:\n",
    "\n",
    "* It specifies a window of (1 year + 1 week). The input data will be the first week of the window, the output the last. This means that our model will predict a week using the same week of the previous year.\n",
    "\n",
    "* It takes the dataset and slides the window along the dataset, one hour at a time. Each slide creates a new (input_week, output_week) tuple.\n",
    "\n",
    "* It creates a new Tensorflow dataset from the Pandas DataFrame. It shuffles the tuples and and batches them into batches of 32 for training\n",
    "\n",
    "* It filters (input, output) tuples if either the input or the output number of vehicles is 0 for the whole week. It does so when transforming the data from from a Pandas DataFrame to a TensorFlow Dataset.\n",
    "\n"
   ]
  },
  {
   "cell_type": "code",
   "execution_count": 52,
   "id": "ea3bb0a6-09cd-488e-a5d1-408612fafbf2",
   "metadata": {},
   "outputs": [],
   "source": [
    "WEEK_STEPS = 7 * 24\n",
    "YEAR_STEPS = 52 * WEEK_STEPS\n",
    "SHIFT_STEPS = YEAR_STEPS      # predict same week of following year\n",
    "\n",
    "labels = ['speed', 'weight', 'n_vehicles'] # What we want to predict\n",
    "num_features = len(train.columns)\n",
    "num_labels = len(labels)"
   ]
  },
  {
   "cell_type": "code",
   "execution_count": 53,
   "id": "46ff863b-cdad-47d5-b349-d848126e5fa5",
   "metadata": {},
   "outputs": [
    {
     "data": {
      "text/plain": [
       "Total window size: 8904\n",
       "Input indices: [  0   1   2   3   4   5   6   7   8   9  10  11  12  13  14  15  16  17\n",
       "  18  19  20  21  22  23  24  25  26  27  28  29  30  31  32  33  34  35\n",
       "  36  37  38  39  40  41  42  43  44  45  46  47  48  49  50  51  52  53\n",
       "  54  55  56  57  58  59  60  61  62  63  64  65  66  67  68  69  70  71\n",
       "  72  73  74  75  76  77  78  79  80  81  82  83  84  85  86  87  88  89\n",
       "  90  91  92  93  94  95  96  97  98  99 100 101 102 103 104 105 106 107\n",
       " 108 109 110 111 112 113 114 115 116 117 118 119 120 121 122 123 124 125\n",
       " 126 127 128 129 130 131 132 133 134 135 136 137 138 139 140 141 142 143\n",
       " 144 145 146 147 148 149 150 151 152 153 154 155 156 157 158 159 160 161\n",
       " 162 163 164 165 166 167]\n",
       "Label indices: [8736 8737 8738 8739 8740 8741 8742 8743 8744 8745 8746 8747 8748 8749\n",
       " 8750 8751 8752 8753 8754 8755 8756 8757 8758 8759 8760 8761 8762 8763\n",
       " 8764 8765 8766 8767 8768 8769 8770 8771 8772 8773 8774 8775 8776 8777\n",
       " 8778 8779 8780 8781 8782 8783 8784 8785 8786 8787 8788 8789 8790 8791\n",
       " 8792 8793 8794 8795 8796 8797 8798 8799 8800 8801 8802 8803 8804 8805\n",
       " 8806 8807 8808 8809 8810 8811 8812 8813 8814 8815 8816 8817 8818 8819\n",
       " 8820 8821 8822 8823 8824 8825 8826 8827 8828 8829 8830 8831 8832 8833\n",
       " 8834 8835 8836 8837 8838 8839 8840 8841 8842 8843 8844 8845 8846 8847\n",
       " 8848 8849 8850 8851 8852 8853 8854 8855 8856 8857 8858 8859 8860 8861\n",
       " 8862 8863 8864 8865 8866 8867 8868 8869 8870 8871 8872 8873 8874 8875\n",
       " 8876 8877 8878 8879 8880 8881 8882 8883 8884 8885 8886 8887 8888 8889\n",
       " 8890 8891 8892 8893 8894 8895 8896 8897 8898 8899 8900 8901 8902 8903]\n",
       "Label column name(s): ['speed', 'weight', 'n_vehicles']"
      ]
     },
     "execution_count": 53,
     "metadata": {},
     "output_type": "execute_result"
    }
   ],
   "source": [
    "week_window = make_window(train, val, test, train_mean, train_std,\n",
    "                          input_w=WEEK_STEPS, label_w=WEEK_STEPS,\n",
    "                          shift=SHIFT_STEPS, label_cols=labels)\n",
    "week_window"
   ]
  },
  {
   "cell_type": "markdown",
   "id": "a0edb49c-4356-4fa6-b194-1a48d747f755",
   "metadata": {},
   "source": [
    "Here is a plot of a sample of weeks from the training dataset generated with our window:"
   ]
  },
  {
   "cell_type": "code",
   "execution_count": 54,
   "id": "b29750fc-2237-44e8-b76a-3803e5f6d526",
   "metadata": {},
   "outputs": [
    {
     "data": {
      "image/png": "[encoded data removed]",
      "text/plain": [
       "<Figure size 864x576 with 6 Axes>"
      ]
     },
     "metadata": {
      "needs_background": "light"
     },
     "output_type": "display_data"
    },
    {
     "data": {
      "text/plain": [
       "<Figure size 576x432 with 0 Axes>"
      ]
     },
     "metadata": {},
     "output_type": "display_data"
    }
   ],
   "source": [
    "week_window.plot()\n",
    "plt.show()\n",
    "plt.clf()"
   ]
  },
  {
   "cell_type": "markdown",
   "id": "004b7849-62d9-4b7d-80e4-a07247a4b13c",
   "metadata": {},
   "source": [
    "## Model prediction"
   ]
  },
  {
   "cell_type": "markdown",
   "id": "73f6f545-0eaf-4b5f-97e9-c9d11178f9a1",
   "metadata": {},
   "source": [
    "We will train various models to predict our data. This will allow to choose the best performing model to generate our new data."
   ]
  },
  {
   "cell_type": "code",
   "execution_count": 55,
   "id": "9bdc88d8-1312-42f5-8943-0cc5983b8f09",
   "metadata": {},
   "outputs": [],
   "source": [
    "MODELS_PATH = \"models/\""
   ]
  },
  {
   "cell_type": "code",
   "execution_count": 56,
   "id": "df770d58-1e07-4f9d-88a2-41518ef2c9c1",
   "metadata": {},
   "outputs": [],
   "source": [
    "metrics = [tf.losses.MeanSquaredError(),\n",
    "           tf.metrics.MeanAbsoluteError()]"
   ]
  },
  {
   "cell_type": "markdown",
   "id": "68c9d9b8-3f65-432d-b334-0c10a3bd75d4",
   "metadata": {},
   "source": [
    "### Baseline"
   ]
  },
  {
   "cell_type": "markdown",
   "id": "680aeff2-858c-4662-9c20-2398fffbd6be",
   "metadata": {},
   "source": [
    "The first model is the simplest one, it simply outputs the input week. We will compare all our predictions to this model"
   ]
  },
  {
   "cell_type": "code",
   "execution_count": 57,
   "id": "c059dfbe-4045-4a39-bb43-edbca8d32500",
   "metadata": {},
   "outputs": [],
   "source": [
    "class Baseline(tf.keras.Model):\n",
    "    \"\"\"Model that outputs its input of shape (batch, time, features)\n",
    "       If `label_indices` is None, outputs the whole time range, \n",
    "       `input[:, label_indices, :]` otherwise.\n",
    "       If `label_col_indices` is None, outputs all features, \n",
    "       `input[:, :, label_col_indices]` otherwise.otherwise\"\"\"\n",
    "    \n",
    "    def __init__(self, label_indices=None, label_col_indices=None):    \n",
    "        super().__init__()\n",
    "        self.label_indices = label_indices\n",
    "        self.label_col_indices = label_col_indices\n",
    "\n",
    "    def call(self, inputs):\n",
    "        \"\"\"Returns the desired portion of the input\"\"\"\n",
    "        result = inputs\n",
    "        \n",
    "        if self.label_indices:\n",
    "            result = tf.gather(result, self.label_indices, axis=1)\n",
    "            \n",
    "        if self.label_col_indices:\n",
    "            result = tf.gather(result, self.label_col_indices, axis=2)\n",
    "        \n",
    "        return result"
   ]
  },
  {
   "cell_type": "code",
   "execution_count": 58,
   "id": "7c75f0ac-4a5c-4671-9579-5e1fb83e9eb8",
   "metadata": {},
   "outputs": [],
   "source": [
    "# Find index of ouput features\n",
    "label_col_indices = [i for i, col in enumerate(train.columns) if col in labels]\n",
    "\n",
    "\n",
    "baseline = Baseline(label_col_indices=label_col_indices)\n",
    "baseline.compile(loss=tf.losses.MeanSquaredError(),\n",
    "                 metrics=metrics)"
   ]
  },
  {
   "cell_type": "markdown",
   "id": "dc68b585-28bf-4a3c-83cd-c8fc75e3c7e5",
   "metadata": {},
   "source": [
    "### Smoothed Baseline"
   ]
  },
  {
   "cell_type": "markdown",
   "id": "845397d8-bddf-4c72-8577-8bf4efec6710",
   "metadata": {},
   "source": [
    "Our baseline model outputs its input, which does not take into account this years stochasticity. Another idea for a baseline model would be to find, for each hour of each week, the average values computed on all 4 year of the training data (discarding zero weeks).  "
   ]
  },
  {
   "cell_type": "code",
   "execution_count": 197,
   "id": "54bc9b6b-4fd6-4d17-ba49-8fb10bb17401",
   "metadata": {},
   "outputs": [],
   "source": [
    "def add_year_and_week_nbr_column(data):\n",
    "    \"\"\"Adds utility columns to facilitate retrieving correct week/time average in smooth baseline model\"\"\"\n",
    "    data = data.copy()\n",
    "    \n",
    "    year_size = 52*WEEK_STEPS\n",
    "    years = [data.iloc[i : min(len(data), i + year_size)].copy() for i \\\n",
    "             in range(0, len(data), year_size)]\n",
    "    \n",
    "    for i, year in enumerate(years):\n",
    "        year['year'] = i\n",
    "        year['week'] = pd.Series(np.arange(52)).repeat(52*[WEEK_STEPS]).to_numpy()[:len(year)]\n",
    "        year['hour'] = pd.Series(52*list(np.arange(WEEK_STEPS))).to_numpy()[:len(year)]\n",
    "        year['week_hour'] = WEEK_STEPS * year['week'] + year['hour']\n",
    "    \n",
    "    return pd.concat(years)\n",
    "\n",
    "# Modified datasets just for smooth model, so that the model can retrieve the correct average\n",
    "# when given a shuffled dataset. This does not impact evaluation\n",
    "train_smooth = add_year_and_week_nbr_column(train)\n",
    "val_smooth = add_year_and_week_nbr_column(val)\n",
    "test_smooth = add_year_and_week_nbr_column(test)\n",
    "\n",
    "WEEKHOUR_INDEX = len(train_smooth.columns) - 1 # week column is last\n",
    "\n",
    "smooth_week_window = make_window(train_smooth, val_smooth, test_smooth, train_mean, train_std,\n",
    "                          input_w=WEEK_STEPS, label_w=WEEK_STEPS,\n",
    "                          shift=SHIFT_STEPS, label_cols=labels)"
   ]
  },
  {
   "cell_type": "code",
   "execution_count": 227,
   "id": "6c149da0-c4f5-491c-97cd-ece61da3e44d",
   "metadata": {},
   "outputs": [],
   "source": [
    "def std_week_non_zero(week):\n",
    "    \"\"\"Return false if week is non zero\"\"\"\n",
    "    return (week.n_vehicles * train_std.n_vehicles + train_mean.n_vehicles).sum() >= 1\n",
    "\n",
    "def weekly_mean_over_all_years(weeks):\n",
    "    \"\"\"Transform a week group, filter zero weeks and compute average time for\n",
    "    each hour over all years of the dataset\"\"\"\n",
    "    features = ['speed', 'weight', 'n_vehicles', 'year', 'hour']\n",
    "    return weeks[features]                   \\\n",
    "            .groupby('year')                 \\\n",
    "            .filter(std_week_non_zero)       \\\n",
    "            .groupby('hour')                 \\\n",
    "            .mean()                          \n",
    "    \n",
    "class Smooth(tf.keras.Model):\n",
    "    \"\"\"Model that outputs its average input of shape (batch, time, features)\n",
    "       calulated for each hour of each week, average over the years of the\n",
    "       training dataset\"\"\"\n",
    "    \n",
    "    def __init__(self, train_smooth):    \n",
    "        super().__init__()\n",
    "        \n",
    "        week_averages_df = train_smooth.groupby(['week']) \\\n",
    "                                         .apply(weekly_mean_over_all_years) \\\n",
    "                                         .reset_index()[['speed', 'weight', 'n_vehicles']]\n",
    "        self.week_averages = tf.convert_to_tensor(week_averages_df, dtype='float32')\n",
    "        \n",
    "    def find_time_values(self, time):\n",
    "        return self.week_averages[int(time[WEEKHOUR_INDEX]), :]\n",
    "    \n",
    "    def find_week_values(self, week):\n",
    "        return tf.map_fn(self.find_time_values, week)\n",
    "    \n",
    "    def call(self, inputs):\n",
    "        \"\"\"Returns the desired portion of the input\"\"\"\n",
    "\n",
    "        return tf.map_fn(self.find_week_values, inputs)"
   ]
  },
  {
   "cell_type": "code",
   "execution_count": 228,
   "id": "1d106dd5-575b-47b7-9d37-2f984d93c0ca",
   "metadata": {},
   "outputs": [],
   "source": [
    "smooth = Smooth(train_smooth)\n",
    "smooth.compile(loss=tf.losses.MeanSquaredError(),\n",
    "                 metrics=metrics)"
   ]
  },
  {
   "cell_type": "markdown",
   "id": "909b2c63-07ad-4d90-8153-5cdfb43d09f9",
   "metadata": {},
   "source": [
    "### Linear "
   ]
  },
  {
   "cell_type": "markdown",
   "id": "a844b660-de4a-41a8-8d5b-e649f7545549",
   "metadata": {},
   "source": [
    "We also try a linear regression model, without regularizion."
   ]
  },
  {
   "cell_type": "code",
   "execution_count": 19,
   "id": "5e83c753-09d5-4800-8d23-dc6d04146768",
   "metadata": {},
   "outputs": [],
   "source": [
    "linear = tf.keras.Sequential([\n",
    "    # Take the last time-step.\n",
    "    # Shape [batch, time, features] => [batch, 1, time*features]\n",
    "    tf.keras.layers.Flatten(),\n",
    "    # Shape => [batch, 1, time*features]\n",
    "    tf.keras.layers.Dense(WEEK_STEPS*num_labels,\n",
    "                          kernel_initializer=tf.initializers.zeros()),\n",
    "    # Shape => [batch, time, features]\n",
    "    tf.keras.layers.Reshape([WEEK_STEPS, num_labels])\n",
    "])"
   ]
  },
  {
   "cell_type": "code",
   "execution_count": 20,
   "id": "6844855c-4f7d-44e1-b138-1d6d347f94e4",
   "metadata": {},
   "outputs": [],
   "source": [
    "lin_history = compile_and_fit(linear, week_window, metrics=metrics)\n",
    "IPython.display.clear_output()"
   ]
  },
  {
   "cell_type": "code",
   "execution_count": 21,
   "id": "697e4ee0-d16f-4a5a-9667-e583024d2760",
   "metadata": {},
   "outputs": [
    {
     "name": "stderr",
     "output_type": "stream",
     "text": [
      "2021-12-21 19:12:39.172019: W tensorflow/python/util/util.cc:368] Sets are not currently considered sequences, but this may change in the future, so consider avoiding using them.\n"
     ]
    },
    {
     "name": "stdout",
     "output_type": "stream",
     "text": [
      "INFO:tensorflow:Assets written to: models/sel-linear/assets\n"
     ]
    }
   ],
   "source": [
    "linear.save(MODELS_PATH + \"sel-linear\")"
   ]
  },
  {
   "cell_type": "markdown",
   "id": "c8d92dad-e61a-4ed8-aa52-04ed3e73f0a8",
   "metadata": {},
   "source": [
    "### Neural Network"
   ]
  },
  {
   "cell_type": "markdown",
   "id": "1719e3d8-e625-447a-8675-a3c8ba9c4885",
   "metadata": {},
   "source": [
    "A single-hidden-layer fully connected Neural Network"
   ]
  },
  {
   "cell_type": "code",
   "execution_count": 22,
   "id": "d0d26a30-cd0e-4612-a79e-cbc1505aa644",
   "metadata": {},
   "outputs": [],
   "source": [
    "dense = tf.keras.Sequential([\n",
    "    # Shape [batch, time, features] => [batch, 1, time*features]\n",
    "    tf.keras.layers.Flatten(),\n",
    "    # Shape => [batch, 1, dense_units]\n",
    "    tf.keras.layers.Dense(512, activation='relu'),\n",
    "    # Shape => [batch, week_steps*features]\n",
    "    tf.keras.layers.Dense(WEEK_STEPS*num_labels,\n",
    "                          kernel_initializer=tf.initializers.zeros()),\n",
    "    # Shape => [batch, week_steps, features]\n",
    "    tf.keras.layers.Reshape([WEEK_STEPS, num_labels])\n",
    "])"
   ]
  },
  {
   "cell_type": "code",
   "execution_count": 23,
   "id": "1ab722c8-8524-4421-8be8-2b670429668a",
   "metadata": {},
   "outputs": [],
   "source": [
    "dense_history = compile_and_fit(dense, week_window, metrics=metrics)\n",
    "IPython.display.clear_output()"
   ]
  },
  {
   "cell_type": "code",
   "execution_count": 24,
   "id": "85dc7a3d-4522-4c72-a535-28876ef73642",
   "metadata": {},
   "outputs": [
    {
     "name": "stdout",
     "output_type": "stream",
     "text": [
      "INFO:tensorflow:Assets written to: models/sel-dense/assets\n"
     ]
    }
   ],
   "source": [
    "dense.save(MODELS_PATH + \"sel-dense\")"
   ]
  },
  {
   "cell_type": "markdown",
   "id": "23778a25-3a9f-43c2-81af-b73da477d4b2",
   "metadata": {},
   "source": [
    "### Recurrent Neural Network (LSTM)"
   ]
  },
  {
   "cell_type": "markdown",
   "id": "82b3742d-90e9-46fe-8cca-d074850cdb4d",
   "metadata": {},
   "source": [
    "A LSTM recurrent neural network, with 32 LSTM units, and a linear output layer"
   ]
  },
  {
   "cell_type": "code",
   "execution_count": 26,
   "id": "294e72c1-4bfd-479a-8abf-6de6eb52dcc7",
   "metadata": {},
   "outputs": [],
   "source": [
    "rnn = tf.keras.Sequential([\n",
    "    # Shape [batch, time, features] => [batch, lstm_units].\n",
    "    tf.keras.layers.LSTM(32, return_sequences=False),\n",
    "    # Shape => [batch, out_steps*features].\n",
    "    tf.keras.layers.Dense(WEEK_STEPS*num_labels,\n",
    "                          kernel_initializer=tf.initializers.zeros()),\n",
    "    # Shape => [batch, out_steps, features].\n",
    "    tf.keras.layers.Reshape([WEEK_STEPS, num_labels])\n",
    "])"
   ]
  },
  {
   "cell_type": "code",
   "execution_count": 27,
   "id": "67217482-7ed3-4e44-a52a-1f7fb23717f1",
   "metadata": {},
   "outputs": [],
   "source": [
    "rnn_hist = compile_and_fit(rnn, week_window, metrics=metrics)\n",
    "IPython.display.clear_output()"
   ]
  },
  {
   "cell_type": "code",
   "execution_count": 28,
   "id": "5dd4d25c-b99a-405a-a2fe-3e8d0f487956",
   "metadata": {},
   "outputs": [
    {
     "name": "stderr",
     "output_type": "stream",
     "text": [
      "WARNING:absl:Found untraced functions such as lstm_cell_layer_call_fn, lstm_cell_layer_call_and_return_conditional_losses, lstm_cell_layer_call_fn, lstm_cell_layer_call_and_return_conditional_losses, lstm_cell_layer_call_and_return_conditional_losses while saving (showing 5 of 5). These functions will not be directly callable after loading.\n"
     ]
    },
    {
     "name": "stdout",
     "output_type": "stream",
     "text": [
      "INFO:tensorflow:Assets written to: models/sel-rnn/assets\n"
     ]
    },
    {
     "name": "stderr",
     "output_type": "stream",
     "text": [
      "INFO:tensorflow:Assets written to: models/sel-rnn/assets\n",
      "WARNING:absl:<keras.layers.recurrent.LSTMCell object at 0x7f7572e94ca0> has the same name 'LSTMCell' as a built-in Keras object. Consider renaming <class 'keras.layers.recurrent.LSTMCell'> to avoid naming conflicts when loading with `tf.keras.models.load_model`. If renaming is not possible, pass the object in the `custom_objects` parameter of the load function.\n"
     ]
    }
   ],
   "source": [
    "rnn.save(MODELS_PATH + \"sel-rnn\")"
   ]
  },
  {
   "cell_type": "markdown",
   "id": "1669297b-69d6-4ec6-b0b9-c62b89e83ce1",
   "metadata": {},
   "source": [
    "## Performance evaluation and model selection"
   ]
  },
  {
   "cell_type": "markdown",
   "id": "8b4ba7e2-001d-4f8c-9874-7bd967d839ea",
   "metadata": {},
   "source": [
    "We will now evaluate model peformance on both the validation and the test dataset. We use mean absolute error and mean squared error between the actual week and the predicted week as metrics "
   ]
  },
  {
   "cell_type": "code",
   "execution_count": 230,
   "id": "91aa50d6",
   "metadata": {},
   "outputs": [],
   "source": [
    "val_performance = {}\n",
    "test_performance = {}"
   ]
  },
  {
   "cell_type": "markdown",
   "id": "135830a6-a8ae-4a30-9330-3ec461bb5ca5",
   "metadata": {},
   "source": [
    "### Baseline"
   ]
  },
  {
   "cell_type": "code",
   "execution_count": 30,
   "id": "9898b2bd-b19c-4fb8-8986-0ec3720f9cdc",
   "metadata": {},
   "outputs": [],
   "source": [
    "val_performance['Baseline'] = baseline.evaluate(week_window.val)\n",
    "test_performance['Baseline'] = baseline.evaluate(week_window.test, verbose=0)\n",
    "IPython.display.clear_output()"
   ]
  },
  {
   "cell_type": "markdown",
   "id": "45927ad5-bf73-404f-abdb-7ffdf9225fa6",
   "metadata": {},
   "source": [
    "### Smooth Baseline"
   ]
  },
  {
   "cell_type": "markdown",
   "id": "8045907a-272d-4bbf-a6e6-828e58e20380",
   "metadata": {},
   "source": [
    "This was done after the fact and this was not added to the plot of the performances. "
   ]
  },
  {
   "cell_type": "code",
   "execution_count": 231,
   "id": "a59a48b4-ec49-4232-91c2-50beeed0c403",
   "metadata": {},
   "outputs": [],
   "source": [
    "val_performance['Smooth'] = baseline.evaluate(week_window.val)\n",
    "test_performance['Smooth'] = baseline.evaluate(week_window.test, verbose=0)\n",
    "IPython.display.clear_output()"
   ]
  },
  {
   "cell_type": "code",
   "execution_count": 232,
   "id": "cdff6d80-6259-43cb-8466-fdf0e36f167a",
   "metadata": {},
   "outputs": [
    {
     "data": {
      "text/plain": [
       "{'Smooth': [0.3301251232624054, 0.3300703763961792, 0.27244216203689575]}"
      ]
     },
     "execution_count": 232,
     "metadata": {},
     "output_type": "execute_result"
    }
   ],
   "source": [
    "val_performance"
   ]
  },
  {
   "cell_type": "code",
   "execution_count": 233,
   "id": "078bc381-379c-4d71-adb2-c19fc39ed5d3",
   "metadata": {},
   "outputs": [
    {
     "data": {
      "text/plain": [
       "{'Smooth': [0.3429895341396332, 0.343509703874588, 0.2958669364452362]}"
      ]
     },
     "execution_count": 233,
     "metadata": {},
     "output_type": "execute_result"
    }
   ],
   "source": [
    "test_performance"
   ]
  },
  {
   "cell_type": "markdown",
   "id": "6d3c1461",
   "metadata": {},
   "source": [
    "### Linear"
   ]
  },
  {
   "cell_type": "code",
   "execution_count": 31,
   "id": "0ae28ef7",
   "metadata": {},
   "outputs": [],
   "source": [
    "val_performance['Linear'] = linear.evaluate(week_window.val)\n",
    "test_performance['Linear'] = linear.evaluate(week_window.test, verbose=0)\n",
    "IPython.display.clear_output()"
   ]
  },
  {
   "cell_type": "markdown",
   "id": "cca61143-6897-4f5c-be60-26e76b2a7b6b",
   "metadata": {},
   "source": [
    "### Dense"
   ]
  },
  {
   "cell_type": "code",
   "execution_count": 32,
   "id": "5cfa3d47-dc88-49a6-936a-0d54f428b1fd",
   "metadata": {},
   "outputs": [],
   "source": [
    "val_performance['Dense'] = dense.evaluate(week_window.val)\n",
    "test_performance['Dense'] = dense.evaluate(week_window.test, verbose=0)\n",
    "IPython.display.clear_output()"
   ]
  },
  {
   "cell_type": "markdown",
   "id": "9d84259c-b5aa-4c0a-82cb-974630b541b4",
   "metadata": {},
   "source": [
    "### RNN"
   ]
  },
  {
   "cell_type": "code",
   "execution_count": 33,
   "id": "0b0ad046-1bff-4489-a6cd-8aa47e5c1546",
   "metadata": {},
   "outputs": [],
   "source": [
    "val_performance['RNN'] = rnn.evaluate(week_window.val)\n",
    "test_performance['RNN'] = rnn.evaluate(week_window.test, verbose=0)\n",
    "IPython.display.clear_output()"
   ]
  },
  {
   "cell_type": "markdown",
   "id": "1f8a436f",
   "metadata": {},
   "source": [
    "### Performance"
   ]
  },
  {
   "cell_type": "markdown",
   "id": "5de4bf0e-0d15-42a3-b4da-8cb16b29ba33",
   "metadata": {},
   "source": [
    "We can plot and display both metrics for each model. We also calculate the relative performance with respect to the baseline performance."
   ]
  },
  {
   "cell_type": "code",
   "execution_count": 34,
   "id": "da1a4482",
   "metadata": {},
   "outputs": [],
   "source": [
    "def plot_metric(metric_name):\n",
    "    x = np.arange(len(test_performance))\n",
    "    width = 0.3\n",
    "    metric_index = dense.metrics_names.index(metric_name)\n",
    "    val_mae = [v[metric_index] for v in val_performance.values()]\n",
    "    test_mae = [v[metric_index] for v in test_performance.values()]\n",
    "\n",
    "    plt.ylabel(f'{metric_name} [Weight, normalized]')\n",
    "    plt.bar(x - 0.17, val_mae, width, label='Validation')\n",
    "    plt.bar(x + 0.17, test_mae, width, label='Test')\n",
    "    plt.xticks(ticks=x, labels=test_performance.keys(),\n",
    "               rotation=45)\n",
    "    _ = plt.legend()"
   ]
  },
  {
   "cell_type": "code",
   "execution_count": 42,
   "id": "bc36e8f2-b842-48be-b123-ec0c6d243a18",
   "metadata": {},
   "outputs": [
    {
     "data": {
      "image/png": "[encoded data removed]",
      "text/plain": [
       "<Figure size 576x432 with 1 Axes>"
      ]
     },
     "metadata": {
      "needs_background": "light"
     },
     "output_type": "display_data"
    }
   ],
   "source": [
    "plot_metric('mean_squared_error')"
   ]
  },
  {
   "cell_type": "code",
   "execution_count": 70,
   "id": "f3a9f1c2-7583-4096-961b-4288d4fb8211",
   "metadata": {},
   "outputs": [
    {
     "name": "stdout",
     "output_type": "stream",
     "text": [
      "Mean squared error [relative improvement]\n",
      "Baseline    : 0.3430\n",
      "Linear      : 0.3753 [+09.43%]\n",
      "Dense       : 0.3273 [-04.57%]\n",
      "RNN         : 0.2889 [-15.78%]\n"
     ]
    }
   ],
   "source": [
    "print(\"Mean squared error [relative improvement]\")\n",
    "for i, (name, value) in enumerate(test_performance.items()):\n",
    "    offset = (value[0] - test_performance['Baseline'][0]) / test_performance['Baseline'][0]\n",
    "    \n",
    "    if i > 0:\n",
    "        print(f'{name:12s}: {value[0]:.4f} [{\"+\" if offset >= 0 else \"-\"}{100*np.abs(offset):05.2f}%]')\n",
    "    else:\n",
    "        print(f'{name:12s}: {value[0]:.4f}')"
   ]
  },
  {
   "cell_type": "code",
   "execution_count": 44,
   "id": "6f0afda5-0576-4491-86de-7b36b05a70c6",
   "metadata": {},
   "outputs": [
    {
     "data": {
      "image/png": "[encoded data removed]",
      "text/plain": [
       "<Figure size 576x432 with 1 Axes>"
      ]
     },
     "metadata": {
      "needs_background": "light"
     },
     "output_type": "display_data"
    }
   ],
   "source": [
    "plot_metric('mean_absolute_error')"
   ]
  },
  {
   "cell_type": "code",
   "execution_count": 75,
   "id": "45ba12c1",
   "metadata": {},
   "outputs": [
    {
     "name": "stdout",
     "output_type": "stream",
     "text": [
      "Mean absolute error [relative improvement]\n",
      "Baseline    : 0.2959\n",
      "Linear      : 0.4186 [+41.47%]\n",
      "Dense       : 0.3596 [+21.54%]\n",
      "RNN         : 0.3264 [+10.32%]\n"
     ]
    }
   ],
   "source": [
    "print(\"Mean absolute error [relative improvement]\")\n",
    "for i, (name, value) in enumerate(test_performance.items()):\n",
    "    offset = (value[2] - test_performance['Baseline'][2]) / test_performance['Baseline'][2]\n",
    "    \n",
    "    if i > 0:\n",
    "        print(f'{name:12s}: {value[2]:.4f} [{\"+\" if offset >= 0 else \"-\"}{100*np.abs(offset):05.2f}%]')\n",
    "    else:\n",
    "        print(f'{name:12s}: {value[2]:.4f}')"
   ]
  },
  {
   "cell_type": "markdown",
   "id": "d66794e5-73e0-4450-a4e5-d3c33e0b5fd0",
   "metadata": {},
   "source": [
    "We can see that our baseline model already performs well. Indeed, the linear performs worse in both MSE and MAE ($9\\%$ and $41\\%$ worse respectively). The dense model performs only $6\\%$ better on MSE but $20\\%$ worse on MAE. However, our RNN has a sizable performance improvement of $15\\%$ over baseline in MSE. The RNN still performs worse in MAE by $10\\%$.\n",
    "\n",
    "We will pick an RNN to generate our rate predictions, since it is the best performing model."
   ]
  }
 ],
 "metadata": {
  "kernelspec": {
   "display_name": "Python 3 (ipykernel)",
   "language": "python",
   "name": "python3"
  },
  "language_info": {
   "codemirror_mode": {
    "name": "ipython",
    "version": 3
   },
   "file_extension": ".py",
   "mimetype": "text/x-python",
   "name": "python",
   "nbconvert_exporter": "python",
   "pygments_lexer": "ipython3",
   "version": "3.8.11"
  }
 },
 "nbformat": 4,
 "nbformat_minor": 5
}
