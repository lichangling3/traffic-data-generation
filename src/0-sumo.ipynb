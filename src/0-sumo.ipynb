{
 "cells": [
  {
   "cell_type": "markdown",
   "id": "0a3ee89a",
   "metadata": {},
   "source": [
    "# 0. SUMO\n",
    "The aim of this notebook is to make a quick guide on how to simulate traffic using \"Simulation of Urban Mobility\" (SUMO) of our dataset."
   ]
  },
  {
   "cell_type": "markdown",
   "id": "c2045c0a",
   "metadata": {},
   "source": [
    "## Useful imports"
   ]
  },
  {
   "cell_type": "code",
   "execution_count": 2,
   "id": "fb623d55",
   "metadata": {},
   "outputs": [],
   "source": [
    "from xml.dom import minidom\n",
    "import os \n",
    "import datetime\n",
    "\n",
    "import numpy as np\n",
    "import pandas as pd"
   ]
  },
  {
   "cell_type": "markdown",
   "id": "da42b146",
   "metadata": {},
   "source": [
    "## How to setup SUMO"
   ]
  },
  {
   "cell_type": "markdown",
   "id": "800bddb1",
   "metadata": {},
   "source": [
    "To install SUMO : https://sumo.dlr.de/docs/Installing/index.html#macos\n",
    "\n",
    "A Hello SUMO tutorial that is enough to understand how to set up the simulation : https://sumo.dlr.de/docs/Tutorials/Hello_SUMO.html\n",
    "\n",
    "To simulate urban mobility, we have to define some files :\n",
    "- hello.nod.xml, nodes are junctions that have locations (x,y) coordinates, describing distance in meters to origin.\n",
    "- hello.edg.xml, edges connect nodes and have a direction (from node 1 to 2 for ex.)\n",
    "\n",
    "From these 2 files, a hello.net.xml is generated to create road network by typing in the terminal (make sure to be in the repository src) : \n",
    "\n",
    "_netconvert --node-files=sumo-files/shello.nod.xml --edge-files=sumo-files/hello.edg.xml --output-file=sumo-files/hello.net.xml_\n",
    "\n",
    "- hello.rou.xml, we define 'vType' that have basic properties such as length, acceleration, maximum speed and id. Then from these vType we define 'vehicle' its depart time and its route.\n",
    "\n",
    "- hello.settings.xml, when simulating with SUMO it's useful to add a gui-settings file, so we don't have to change the settings after starting the program. \n",
    "\n",
    "- hello.sumocfg, where we put together hello.net.xml, hello.rou.xml and hello.settings.xml so we can do the simulation. \n",
    "\n",
    "To start the simulation : \n",
    "\n",
    "- Open the application XQuartz\n",
    "- In the terminal : sumo-gui -c hello.sumocfg\n",
    "\n",
    "More info on properties of vehicles https://sumo.dlr.de/docs/Definition_of_Vehicles%2C_Vehicle_Types%2C_and_Routes.html#depart"
   ]
  },
  {
   "cell_type": "markdown",
   "id": "8c2dd6a8",
   "metadata": {},
   "source": [
    "### Load data"
   ]
  },
  {
   "cell_type": "markdown",
   "id": "26f2e803",
   "metadata": {},
   "source": [
    "For this little warmout with SUMO, we use a small dataset provided by our lab."
   ]
  },
  {
   "cell_type": "code",
   "execution_count": 3,
   "id": "140531b1",
   "metadata": {},
   "outputs": [
    {
     "data": {
      "text/html": [
       "<div>\n",
       "<style scoped>\n",
       "    .dataframe tbody tr th:only-of-type {\n",
       "        vertical-align: middle;\n",
       "    }\n",
       "\n",
       "    .dataframe tbody tr th {\n",
       "        vertical-align: top;\n",
       "    }\n",
       "\n",
       "    .dataframe thead th {\n",
       "        text-align: right;\n",
       "    }\n",
       "</style>\n",
       "<table border=\"1\" class=\"dataframe\">\n",
       "  <thead>\n",
       "    <tr style=\"text-align: right;\">\n",
       "      <th></th>\n",
       "      <th>depart</th>\n",
       "      <th>route</th>\n",
       "      <th>departSpeed</th>\n",
       "      <th>length</th>\n",
       "      <th>type</th>\n",
       "    </tr>\n",
       "  </thead>\n",
       "  <tbody>\n",
       "    <tr>\n",
       "      <th>0</th>\n",
       "      <td>2000-01-04 00:05:57</td>\n",
       "      <td>1</td>\n",
       "      <td>101</td>\n",
       "      <td>835</td>\n",
       "      <td>11</td>\n",
       "    </tr>\n",
       "    <tr>\n",
       "      <th>1</th>\n",
       "      <td>2000-01-04 00:28:24</td>\n",
       "      <td>1</td>\n",
       "      <td>83</td>\n",
       "      <td>640</td>\n",
       "      <td>11</td>\n",
       "    </tr>\n",
       "    <tr>\n",
       "      <th>2</th>\n",
       "      <td>2000-01-04 00:34:57</td>\n",
       "      <td>1</td>\n",
       "      <td>84</td>\n",
       "      <td>750</td>\n",
       "      <td>11</td>\n",
       "    </tr>\n",
       "    <tr>\n",
       "      <th>3</th>\n",
       "      <td>2000-01-04 01:14:14</td>\n",
       "      <td>1</td>\n",
       "      <td>89</td>\n",
       "      <td>832</td>\n",
       "      <td>11</td>\n",
       "    </tr>\n",
       "    <tr>\n",
       "      <th>4</th>\n",
       "      <td>2000-01-04 02:25:26</td>\n",
       "      <td>1</td>\n",
       "      <td>104</td>\n",
       "      <td>950</td>\n",
       "      <td>12</td>\n",
       "    </tr>\n",
       "  </tbody>\n",
       "</table>\n",
       "</div>"
      ],
      "text/plain": [
       "               depart  route  departSpeed  length  type\n",
       "0 2000-01-04 00:05:57      1          101     835    11\n",
       "1 2000-01-04 00:28:24      1           83     640    11\n",
       "2 2000-01-04 00:34:57      1           84     750    11\n",
       "3 2000-01-04 01:14:14      1           89     832    11\n",
       "4 2000-01-04 02:25:26      1          104     950    12"
      ]
     },
     "execution_count": 3,
     "metadata": {},
     "output_type": "execute_result"
    }
   ],
   "source": [
    "DATA_PATH = \"../data/extract.txt\"\n",
    "\n",
    "cols_map = {\n",
    "    \"DTS\": \"depart\",\n",
    "    \"LANE\": \"route\",\n",
    "    \"SPD\": \"departSpeed\",\n",
    "    \"TYPE\": \"type\",\n",
    "    \"LENTH\": \"length\"\n",
    "}\n",
    "\n",
    "columns = list(cols_map.values())\n",
    "\n",
    "df = pd.read_csv(DATA_PATH, usecols=cols_map.keys())\n",
    "df.rename(columns=cols_map, inplace=True)\n",
    "df.depart = pd.to_datetime(df.depart, format=\"%Y%m%dT%H%M%S\")\n",
    "\n",
    "df.head()"
   ]
  },
  {
   "cell_type": "markdown",
   "id": "6ad203d1",
   "metadata": {},
   "source": [
    "#### Calculate mean of length of every type of vehicle"
   ]
  },
  {
   "cell_type": "markdown",
   "id": "c773effb",
   "metadata": {},
   "source": [
    "We calculate the mean of length of every type of vehicle to simplify the simulation in order to have a unique length for every type when defining the vehicle in hello.rou.xml"
   ]
  },
  {
   "cell_type": "code",
   "execution_count": 5,
   "id": "f87f25ae",
   "metadata": {},
   "outputs": [],
   "source": [
    "#Convert type to string value for xml file\n",
    "df['type'] = df['type'].astype(str)\n",
    "means = []\n",
    "types = df['type'].unique()\n",
    "\n",
    "#Find means length of every type of vehicule\n",
    "for val in types:\n",
    "    means.append(df.loc[df['type'] == val]['length'].mean())\n",
    "\n",
    "means = [str(x) for x in means]\n",
    "routes = []\n",
    "\n",
    "#Create dictionary with every vType\n",
    "for i in range(len(means)):\n",
    "    routes.append({'vType': {\"id\": types[i], \"length\": means[i]}})"
   ]
  },
  {
   "cell_type": "markdown",
   "id": "de435bcc",
   "metadata": {},
   "source": [
    "#### Create a dict of all vehicles"
   ]
  },
  {
   "cell_type": "markdown",
   "id": "1a5e152f",
   "metadata": {},
   "source": [
    "We create a list of every vehicles of our dataset with its crossing time to pass on hello.rou.xml file"
   ]
  },
  {
   "cell_type": "code",
   "execution_count": 9,
   "id": "37256e25",
   "metadata": {},
   "outputs": [],
   "source": [
    "#the first car departs at t = 0\n",
    "departs = [0]\n",
    "for i in range(len(df)-1):\n",
    "    t1 = df['depart'][i].timestamp()\n",
    "    t2 = df['depart'][i+1].timestamp()\n",
    "    delay = t2-t1\n",
    "    departs.append(departs[i] + delay)\n",
    "    \n",
    "departs = [str(x) for x in departs]\n",
    "\n",
    "for i in range(len(df)):\n",
    "    routes.append({'vehicle': {\"depart\": departs[i], \"type\": df.iloc[i]['type'], \"id\": str(i), \"route\": \"route0\"}})"
   ]
  },
  {
   "cell_type": "markdown",
   "id": "dcf3104d",
   "metadata": {},
   "source": [
    "**Create and fill hello.rou.xml file**"
   ]
  },
  {
   "cell_type": "code",
   "execution_count": 10,
   "id": "a71a7728",
   "metadata": {},
   "outputs": [],
   "source": [
    "routes_file = minidom.Document()\n",
    "  \n",
    "xml = routes_file.createElement('routes') \n",
    "routes_file.appendChild(xml)\n",
    "  \n",
    "route = routes_file.createElement('route')\n",
    "route.setAttribute('id', 'route0')\n",
    "route.setAttribute('edges', '1to2 out')\n",
    "\n",
    "xml.appendChild(route)\n",
    "\n",
    "for i in range(len(routes)):\n",
    "    if 'vType' in routes[i]:\n",
    "        key = 'vType'\n",
    "        vType = routes_file.createElement(key)\n",
    "        vType.setAttribute('id', routes[i][key]['id'])\n",
    "        vType.setAttribute('length', routes[i][key]['length'])\n",
    "        xml.appendChild(vType)\n",
    "    else:\n",
    "        key = 'vehicle'\n",
    "        vehicle = routes_file.createElement(key)\n",
    "        vehicle.setAttribute('depart', routes[i][key]['depart'])\n",
    "        vehicle.setAttribute('type', routes[i][key]['type'])\n",
    "        vehicle.setAttribute('id', routes[i][key]['id'])\n",
    "        vehicle.setAttribute('route', 'route0')\n",
    "        xml.appendChild(vehicle)\n",
    "\n",
    "xml_str = routes_file.toprettyxml(indent =\"\\t\") \n",
    "  \n",
    "save_path_file = \"sumo-files/hello.rou.xml\"\n",
    "  \n",
    "with open(save_path_file, \"w\") as f:\n",
    "    f.write(xml_str) "
   ]
  },
  {
   "cell_type": "markdown",
   "id": "0ce27a27",
   "metadata": {},
   "source": [
    "Then, go back to the part on \"how to setup SUMO\" !"
   ]
  },
  {
   "cell_type": "code",
   "execution_count": null,
   "id": "950210b3",
   "metadata": {},
   "outputs": [],
   "source": []
  }
 ],
 "metadata": {
  "kernelspec": {
   "display_name": "Python 3",
   "language": "python",
   "name": "python3"
  },
  "language_info": {
   "codemirror_mode": {
    "name": "ipython",
    "version": 3
   },
   "file_extension": ".py",
   "mimetype": "text/x-python",
   "name": "python",
   "nbconvert_exporter": "python",
   "pygments_lexer": "ipython3",
   "version": "3.7.11"
  }
 },
 "nbformat": 4,
 "nbformat_minor": 5
}
