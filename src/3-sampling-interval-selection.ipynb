{
 "cells": [
  {
   "cell_type": "markdown",
   "metadata": {
    "id": "7WkZYneKDJ8_"
   },
   "source": [
    "# 3. Sampling interval selection"
   ]
  },
  {
   "cell_type": "markdown",
   "metadata": {
    "id": "4KsfU4GIDJ9D"
   },
   "source": [
    "The aim of this notebook is to find the most appropriate sampling interval for which to predict the number of cars. We will use the best performing model of the previous section to determine this"
   ]
  },
  {
   "cell_type": "markdown",
   "metadata": {
    "id": "UBYN0qETDJ9E"
   },
   "source": [
    "## Setup"
   ]
  },
  {
   "cell_type": "code",
   "execution_count": 2,
   "metadata": {
    "id": "vifM4PwCDJ9G"
   },
   "outputs": [],
   "source": [
    "import os\n",
    "import datetime\n",
    "\n",
    "import IPython\n",
    "import IPython.display\n",
    "import matplotlib as mpl\n",
    "import matplotlib.pyplot as plt\n",
    "import numpy as np\n",
    "import pandas as pd\n",
    "import seaborn as sns\n",
    "import tensorflow as tf\n",
    "\n",
    "mpl.rcParams['figure.figsize'] = (8, 6)\n",
    "mpl.rcParams['axes.grid'] = False\n",
    "\n",
    "from utils import *\n",
    "%load_ext autoreload\n",
    "%autoreload 2"
   ]
  },
  {
   "cell_type": "markdown",
   "metadata": {
    "id": "iDucTbdiDJ9K"
   },
   "source": [
    "#### Load data"
   ]
  },
  {
   "cell_type": "code",
   "execution_count": 3,
   "metadata": {
    "colab": {
     "base_uri": "https://localhost:8080/"
    },
    "id": "620FyskrEs-W",
    "outputId": "015d0c8b-29c7-4359-eb99-5d5ec2974613"
   },
   "outputs": [
    {
     "name": "stdout",
     "output_type": "stream",
     "text": [
      "Mounted at /content/drive\n"
     ]
    }
   ],
   "source": [
    "from google.colab import drive\n",
    "drive.mount('/content/drive')"
   ]
  },
  {
   "cell_type": "code",
   "execution_count": 4,
   "metadata": {
    "colab": {
     "base_uri": "https://localhost:8080/",
     "height": 112
    },
    "id": "Emn4BYWRDJ9L",
    "outputId": "9a142c32-f805-4e98-f223-402a2bef2c72"
   },
   "outputs": [
    {
     "data": {
      "text/html": [
       "\n",
       "  <div id=\"df-f4afed8a-726e-4787-b972-77ef427a2f2d\">\n",
       "    <div class=\"colab-df-container\">\n",
       "      <div>\n",
       "<style scoped>\n",
       "    .dataframe tbody tr th:only-of-type {\n",
       "        vertical-align: middle;\n",
       "    }\n",
       "\n",
       "    .dataframe tbody tr th {\n",
       "        vertical-align: top;\n",
       "    }\n",
       "\n",
       "    .dataframe thead th {\n",
       "        text-align: right;\n",
       "    }\n",
       "</style>\n",
       "<table border=\"1\" class=\"dataframe\">\n",
       "  <thead>\n",
       "    <tr style=\"text-align: right;\">\n",
       "      <th></th>\n",
       "      <th>crossTime</th>\n",
       "      <th>speed</th>\n",
       "      <th>weight</th>\n",
       "    </tr>\n",
       "  </thead>\n",
       "  <tbody>\n",
       "    <tr>\n",
       "      <th>0</th>\n",
       "      <td>2011-04-01 00:41:31.400</td>\n",
       "      <td>106</td>\n",
       "      <td>15980</td>\n",
       "    </tr>\n",
       "    <tr>\n",
       "      <th>1</th>\n",
       "      <td>2011-04-01 00:42:10.500</td>\n",
       "      <td>116</td>\n",
       "      <td>3630</td>\n",
       "    </tr>\n",
       "  </tbody>\n",
       "</table>\n",
       "</div>\n",
       "      <button class=\"colab-df-convert\" onclick=\"convertToInteractive('df-f4afed8a-726e-4787-b972-77ef427a2f2d')\"\n",
       "              title=\"Convert this dataframe to an interactive table.\"\n",
       "              style=\"display:none;\">\n",
       "        \n",
       "  <svg xmlns=\"http://www.w3.org/2000/svg\" height=\"24px\"viewBox=\"0 0 24 24\"\n",
       "       width=\"24px\">\n",
       "    <path d=\"M0 0h24v24H0V0z\" fill=\"none\"/>\n",
       "    <path d=\"M18.56 5.44l.94 2.06.94-2.06 2.06-.94-2.06-.94-.94-2.06-.94 2.06-2.06.94zm-11 1L8.5 8.5l.94-2.06 2.06-.94-2.06-.94L8.5 2.5l-.94 2.06-2.06.94zm10 10l.94 2.06.94-2.06 2.06-.94-2.06-.94-.94-2.06-.94 2.06-2.06.94z\"/><path d=\"M17.41 7.96l-1.37-1.37c-.4-.4-.92-.59-1.43-.59-.52 0-1.04.2-1.43.59L10.3 9.45l-7.72 7.72c-.78.78-.78 2.05 0 2.83L4 21.41c.39.39.9.59 1.41.59.51 0 1.02-.2 1.41-.59l7.78-7.78 2.81-2.81c.8-.78.8-2.07 0-2.86zM5.41 20L4 18.59l7.72-7.72 1.47 1.35L5.41 20z\"/>\n",
       "  </svg>\n",
       "      </button>\n",
       "      \n",
       "  <style>\n",
       "    .colab-df-container {\n",
       "      display:flex;\n",
       "      flex-wrap:wrap;\n",
       "      gap: 12px;\n",
       "    }\n",
       "\n",
       "    .colab-df-convert {\n",
       "      background-color: #E8F0FE;\n",
       "      border: none;\n",
       "      border-radius: 50%;\n",
       "      cursor: pointer;\n",
       "      display: none;\n",
       "      fill: #1967D2;\n",
       "      height: 32px;\n",
       "      padding: 0 0 0 0;\n",
       "      width: 32px;\n",
       "    }\n",
       "\n",
       "    .colab-df-convert:hover {\n",
       "      background-color: #E2EBFA;\n",
       "      box-shadow: 0px 1px 2px rgba(60, 64, 67, 0.3), 0px 1px 3px 1px rgba(60, 64, 67, 0.15);\n",
       "      fill: #174EA6;\n",
       "    }\n",
       "\n",
       "    [theme=dark] .colab-df-convert {\n",
       "      background-color: #3B4455;\n",
       "      fill: #D2E3FC;\n",
       "    }\n",
       "\n",
       "    [theme=dark] .colab-df-convert:hover {\n",
       "      background-color: #434B5C;\n",
       "      box-shadow: 0px 1px 3px 1px rgba(0, 0, 0, 0.15);\n",
       "      filter: drop-shadow(0px 1px 2px rgba(0, 0, 0, 0.3));\n",
       "      fill: #FFFFFF;\n",
       "    }\n",
       "  </style>\n",
       "\n",
       "      <script>\n",
       "        const buttonEl =\n",
       "          document.querySelector('#df-f4afed8a-726e-4787-b972-77ef427a2f2d button.colab-df-convert');\n",
       "        buttonEl.style.display =\n",
       "          google.colab.kernel.accessAllowed ? 'block' : 'none';\n",
       "\n",
       "        async function convertToInteractive(key) {\n",
       "          const element = document.querySelector('#df-f4afed8a-726e-4787-b972-77ef427a2f2d');\n",
       "          const dataTable =\n",
       "            await google.colab.kernel.invokeFunction('convertToInteractive',\n",
       "                                                     [key], {});\n",
       "          if (!dataTable) return;\n",
       "\n",
       "          const docLinkHtml = 'Like what you see? Visit the ' +\n",
       "            '<a target=\"_blank\" href=https://colab.research.google.com/notebooks/data_table.ipynb>data table notebook</a>'\n",
       "            + ' to learn more about interactive tables.';\n",
       "          element.innerHTML = '';\n",
       "          dataTable['output_type'] = 'display_data';\n",
       "          await google.colab.output.renderOutput(dataTable, element);\n",
       "          const docLink = document.createElement('div');\n",
       "          docLink.innerHTML = docLinkHtml;\n",
       "          element.appendChild(docLink);\n",
       "        }\n",
       "      </script>\n",
       "    </div>\n",
       "  </div>\n",
       "  "
      ],
      "text/plain": [
       "                crossTime  speed  weight\n",
       "0 2011-04-01 00:41:31.400    106   15980\n",
       "1 2011-04-01 00:42:10.500    116    3630"
      ]
     },
     "execution_count": 4,
     "metadata": {},
     "output_type": "execute_result"
    }
   ],
   "source": [
    "DATA_PATH = '/content/drive/MyDrive/Colab Notebooks/405.txt' #../data/405.txt'\n",
    "\n",
    "cols_map = {\n",
    "    \"DTS\": \"crossTime\",\n",
    "    #\"LANE\": \"lane\",\n",
    "    #\"DIR\": \"direction\",\n",
    "    \"SPEED\": \"speed\",\n",
    "    # \"AX\": \"nAxles\",\n",
    "    \"GW_TOT\": \"weight\",\n",
    "    # \"TYPE\": \"type\",\n",
    "}\n",
    "\n",
    "data = pd.read_csv(DATA_PATH, usecols=cols_map.keys())\n",
    "data.rename(columns=cols_map, inplace=True)\n",
    "# Parse crossTime column as datetime object\n",
    "data.crossTime = pd.to_datetime(data.crossTime+'0000', format='%Y-%m-%d %H:%M:%S.%f')\n",
    "data.head(2)"
   ]
  },
  {
   "cell_type": "markdown",
   "metadata": {
    "id": "R-ueJa6qDJ9N"
   },
   "source": [
    "## Feature engineering"
   ]
  },
  {
   "cell_type": "markdown",
   "metadata": {
    "id": "UHzaESx0DJ9O"
   },
   "source": [
    "We take the raw data and transform it using the pipeline defined in the previous notebook. We do so for our 3 sampling intervals we wish to test."
   ]
  },
  {
   "cell_type": "code",
   "execution_count": 5,
   "metadata": {
    "id": "ohXQ-Ig5DJ9P"
   },
   "outputs": [],
   "source": [
    "def pipeline(features, sampling_interval):\n",
    "    \n",
    "    # Index by crossing time\n",
    "    feature_cols = [col for col in data.columns if col != 'crossTime']\n",
    "    features = data[feature_cols]\n",
    "    features.index = data.crossTime\n",
    "\n",
    "    # Truncate data to ignore COVID pandemic \n",
    "    start_of_covid = \"2019-10-21\"\n",
    "    features = features.truncate(after=start_of_covid)\n",
    "    \n",
    "    # Downsample and add vehicle counts\n",
    "    resampled = features.resample(sampling_interval)\n",
    "    features = resampled.sum()\n",
    "    features['n_vehicles'] = resampled.size()\n",
    "    \n",
    "    legal_driving_start = 5  #  5 AM\n",
    "    legal_driving_end = 22   # 10 PM\n",
    "    legal_driving_duration = legal_driving_end - legal_driving_start\n",
    "    sunday = 6\n",
    "\n",
    "    # HGV Vehicle restrictions\n",
    "    dayofweek = pd.Series(features.index.dayofweek, index=features.index)\n",
    "    hours = pd.Series(features.index.hour, index=features.index)\n",
    "    shifted_hours = hours - legal_driving_start\n",
    "\n",
    "    features['is_legal'] = (((0 <= shifted_hours) & (shifted_hours < legal_driving_duration))).astype(int)\n",
    "    \n",
    "    # Time periodicity features\n",
    "    minute_s = 60\n",
    "    hour_s = minute_s * 60\n",
    "    day_s = 24 * hour_s # 24h x 60m x 60s\n",
    "    week_s = 7 * day_s\n",
    "    year_s = 365.2425 * day_s \n",
    "    \n",
    "    features = add_time_period_cols(features, day_s, 'day')\n",
    "    features = add_time_period_cols(features, week_s, 'week')\n",
    "    features = add_time_period_cols(features, year_s, 'year')\n",
    "    \n",
    "    # Splitting and normalizing\n",
    "    return split_norm_data(features, return_mean_std=True)"
   ]
  },
  {
   "cell_type": "code",
   "execution_count": 6,
   "metadata": {
    "id": "Zkbv8crzDJ9S"
   },
   "outputs": [],
   "source": [
    "# List of tuples (interval, frequency of interval in 1 hour)\n",
    "sampling_intervals = [('1h', 1), ('30min', 2), ('10min', 6)]\n",
    "\n",
    "# Targets to predict\n",
    "labels = ['n_vehicles', 'speed', 'weight']"
   ]
  },
  {
   "cell_type": "markdown",
   "metadata": {
    "id": "CNh0PZJeDJ9T"
   },
   "source": [
    "## Performance evalutaion"
   ]
  },
  {
   "cell_type": "markdown",
   "metadata": {
    "id": "V1kAVpOqDJ9U"
   },
   "source": [
    "We create the windows for each interval, then fit our model to the training data. We then evaluate the model and log the performance."
   ]
  },
  {
   "cell_type": "code",
   "execution_count": 9,
   "metadata": {
    "id": "gYLcW-kADJ9U"
   },
   "outputs": [],
   "source": [
    "val_performance = {}"
   ]
  },
  {
   "cell_type": "code",
   "execution_count": null,
   "metadata": {
    "colab": {
     "base_uri": "https://localhost:8080/",
     "height": 453
    },
    "id": "I1J2eRlfDJ9V",
    "outputId": "29e34aba-48c5-43a5-b935-ba86aa6f6a81"
   },
   "outputs": [],
   "source": [
    "models = []\n",
    "\n",
    "for interval, frequency in sampling_intervals:\n",
    "    print(f'Interval: {interval}')\n",
    "    \n",
    "    # Create nice datasets\n",
    "    train, val, test, train_mean, train_std = pipeline(data, interval)\n",
    "    \n",
    "    # Create window\n",
    "    week_steps = 7 * 24 * frequency\n",
    "    year_steps = 52 * week_steps\n",
    "    shift_steps = year_steps\n",
    "    \n",
    "    week_window = make_window(train, val, test, train_mean, train_std,\n",
    "                              input_w=week_steps, label_w=week_steps,\n",
    "                              shift=shift_steps, label_cols=labels)\n",
    "    \n",
    "    # Use best model from before\n",
    "    rnn = lstm_model(len(labels), week_steps)\n",
    "    history = compile_and_fit(rnn, week_window)\n",
    "    \n",
    "    IPython.display.clear_output()\n",
    "    \n",
    "    # Evaluate performance\n",
    "    val_performance[interval] = rnn.evaluate(week_window.val)"
   ]
  },
  {
   "cell_type": "markdown",
   "metadata": {},
   "source": [
    "## Performance"
   ]
  },
  {
   "cell_type": "markdown",
   "metadata": {},
   "source": [
    "We see that our largest interval performs the best. We will select 1h as our sampling interval since this is the largest interval still comfortable for the discretization phase"
   ]
  },
  {
   "cell_type": "code",
   "execution_count": 20,
   "metadata": {
    "colab": {
     "base_uri": "https://localhost:8080/"
    },
    "id": "G08rWYe2DJ9X",
    "outputId": "c49d2812-8e11-49c7-fab5-44e16abe2195"
   },
   "outputs": [
    {
     "name": "stdout",
     "output_type": "stream",
     "text": [
      "1h     : MSE=0.261 MAE=0.296\n",
      "30min  : MSE=0.268 MAE=0.304\n",
      "10min  : MSE=0.317 MAE=0.348\n"
     ]
    }
   ],
   "source": [
    "for interval, [mse, mae] in val_performance.items():\n",
    "    print(f\"{interval:7s}: MSE={mse:.3f} MAE={mae:.3f}\")"
   ]
  },
  {
   "cell_type": "code",
   "execution_count": 21,
   "metadata": {
    "colab": {
     "base_uri": "https://localhost:8080/",
     "height": 393
    },
    "id": "zzFzuv5aGbEg",
    "outputId": "7ad3a362-8bd5-45e5-c8d9-3ac8cb60dff4"
   },
   "outputs": [
    {
     "data": {
      "image/png": "[encoded data removed]",
      "text/plain": [
       "<Figure size 576x432 with 1 Axes>"
      ]
     },
     "metadata": {
      "needs_background": "light"
     },
     "output_type": "display_data"
    }
   ],
   "source": [
    "x = np.arange(len(val_performance))\n",
    "width = 0.3\n",
    "val_mae = [v[0] for v in val_performance.values()]\n",
    "\n",
    "plt.ylabel('mean_squared_error [n_vehicles, normalized]')\n",
    "plt.bar(x, val_mae, width, label='Validation')\n",
    "plt.xticks(ticks=x, labels=val_performance.keys(),\n",
    "           rotation=45)\n",
    "_ = plt.legend()"
   ]
  },
  {
   "cell_type": "code",
   "execution_count": 24,
   "metadata": {
    "colab": {
     "base_uri": "https://localhost:8080/",
     "height": 393
    },
    "id": "bTUR-hOtdJrv",
    "outputId": "6c9aa17e-ad5e-4100-e98a-aab691a0760f"
   },
   "outputs": [
    {
     "data": {
      "image/png": "[encoded data removed]",
      "text/plain": [
       "<Figure size 576x432 with 1 Axes>"
      ]
     },
     "metadata": {
      "needs_background": "light"
     },
     "output_type": "display_data"
    }
   ],
   "source": [
    "x = np.arange(len(val_performance))\n",
    "width = 0.3\n",
    "val_mae = [v[1] for v in val_performance.values()]\n",
    "\n",
    "plt.ylabel('mean_absolute_error [n_vehicles, normalized]')\n",
    "plt.bar(x, val_mae, width, label='Validation')\n",
    "plt.xticks(ticks=x, labels=val_performance.keys(),\n",
    "           rotation=45)\n",
    "_ = plt.legend()"
   ]
  }
 ],
 "metadata": {
  "accelerator": "GPU",
  "colab": {
   "collapsed_sections": [],
   "name": "3-sampling-interval-selection.ipynb",
   "provenance": []
  },
  "kernelspec": {
   "display_name": "Python [conda env:ada] *",
   "language": "python",
   "name": "conda-env-ada-py"
  },
  "language_info": {
   "codemirror_mode": {
    "name": "ipython",
    "version": 3
   },
   "file_extension": ".py",
   "mimetype": "text/x-python",
   "name": "python",
   "nbconvert_exporter": "python",
   "pygments_lexer": "ipython3",
   "version": "3.8.11"
  }
 },
 "nbformat": 4,
 "nbformat_minor": 4
}
